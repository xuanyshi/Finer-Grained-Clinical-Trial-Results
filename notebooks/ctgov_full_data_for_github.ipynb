{
  "cells": [
    {
      "cell_type": "markdown",
      "metadata": {
        "id": "CDY4NQbh8w_2"
      },
      "source": [
        "# Install & Import"
      ]
    },
    {
      "cell_type": "code",
      "execution_count": null,
      "metadata": {
        "id": "Hx79fAk38zsU",
        "colab": {
          "base_uri": "https://localhost:8080/"
        },
        "outputId": "53b6e3af-b686-4e48-937d-0c9ca8817918"
      },
      "outputs": [
        {
          "output_type": "stream",
          "name": "stdout",
          "text": [
            "Collecting ipython-autotime\n",
            "  Downloading ipython_autotime-0.3.1-py2.py3-none-any.whl (6.8 kB)\n",
            "Requirement already satisfied: ipython in /usr/local/lib/python3.10/dist-packages (from ipython-autotime) (7.34.0)\n",
            "Requirement already satisfied: setuptools>=18.5 in /usr/local/lib/python3.10/dist-packages (from ipython->ipython-autotime) (67.7.2)\n",
            "Collecting jedi>=0.16 (from ipython->ipython-autotime)\n",
            "  Downloading jedi-0.19.1-py2.py3-none-any.whl (1.6 MB)\n",
            "\u001b[2K     \u001b[90m━━━━━━━━━━━━━━━━━━━━━━━━━━━━━━━━━━━━━━━━\u001b[0m \u001b[32m1.6/1.6 MB\u001b[0m \u001b[31m19.1 MB/s\u001b[0m eta \u001b[36m0:00:00\u001b[0m\n",
            "\u001b[?25hRequirement already satisfied: decorator in /usr/local/lib/python3.10/dist-packages (from ipython->ipython-autotime) (4.4.2)\n",
            "Requirement already satisfied: pickleshare in /usr/local/lib/python3.10/dist-packages (from ipython->ipython-autotime) (0.7.5)\n",
            "Requirement already satisfied: traitlets>=4.2 in /usr/local/lib/python3.10/dist-packages (from ipython->ipython-autotime) (5.7.1)\n",
            "Requirement already satisfied: prompt-toolkit!=3.0.0,!=3.0.1,<3.1.0,>=2.0.0 in /usr/local/lib/python3.10/dist-packages (from ipython->ipython-autotime) (3.0.39)\n",
            "Requirement already satisfied: pygments in /usr/local/lib/python3.10/dist-packages (from ipython->ipython-autotime) (2.16.1)\n",
            "Requirement already satisfied: backcall in /usr/local/lib/python3.10/dist-packages (from ipython->ipython-autotime) (0.2.0)\n",
            "Requirement already satisfied: matplotlib-inline in /usr/local/lib/python3.10/dist-packages (from ipython->ipython-autotime) (0.1.6)\n",
            "Requirement already satisfied: pexpect>4.3 in /usr/local/lib/python3.10/dist-packages (from ipython->ipython-autotime) (4.8.0)\n",
            "Requirement already satisfied: parso<0.9.0,>=0.8.3 in /usr/local/lib/python3.10/dist-packages (from jedi>=0.16->ipython->ipython-autotime) (0.8.3)\n",
            "Requirement already satisfied: ptyprocess>=0.5 in /usr/local/lib/python3.10/dist-packages (from pexpect>4.3->ipython->ipython-autotime) (0.7.0)\n",
            "Requirement already satisfied: wcwidth in /usr/local/lib/python3.10/dist-packages (from prompt-toolkit!=3.0.0,!=3.0.1,<3.1.0,>=2.0.0->ipython->ipython-autotime) (0.2.8)\n",
            "Installing collected packages: jedi, ipython-autotime\n",
            "Successfully installed ipython-autotime-0.3.1 jedi-0.19.1\n"
          ]
        }
      ],
      "source": [
        "!pip install ipython-autotime\n",
        "# !pip install scispacy\n",
        "# !pip install spacy\n",
        "# !pip install -U kaleido"
      ]
    },
    {
      "cell_type": "code",
      "execution_count": null,
      "metadata": {
        "colab": {
          "base_uri": "https://localhost:8080/"
        },
        "id": "8BoYwqsx80Kh",
        "outputId": "8034482a-66f7-4f82-a4ac-58c5b9762d7d"
      },
      "outputs": [
        {
          "output_type": "stream",
          "name": "stdout",
          "text": [
            "time: 311 µs (started: 2023-10-11 11:19:25 +00:00)\n"
          ]
        }
      ],
      "source": [
        "import codecs\n",
        "import xml.etree.ElementTree as ET\n",
        "import sys\n",
        "import csv\n",
        "import pandas as pd\n",
        "import numpy as np\n",
        "import os\n",
        "import json\n",
        "import ast\n",
        "import difflib\n",
        "import zipfile\n",
        "import ast\n",
        "from collections import Counter\n",
        "import plotly.express as px\n",
        "import plotly.graph_objs as go\n",
        "from plotly.subplots import make_subplots\n",
        "from ast import literal_eval\n",
        "import re\n",
        "#import kaleido\n",
        "import scipy.stats as stats\n",
        "%load_ext autotime"
      ]
    },
    {
      "cell_type": "code",
      "execution_count": null,
      "metadata": {
        "colab": {
          "base_uri": "https://localhost:8080/"
        },
        "id": "77qcgHJQ81h0",
        "outputId": "b3ace6dd-e175-4948-b76b-746130e510b8"
      },
      "outputs": [
        {
          "output_type": "stream",
          "name": "stdout",
          "text": [
            "Mounted at /content/drive\n",
            "time: 27.5 s (started: 2023-09-07 03:01:10 +00:00)\n"
          ]
        }
      ],
      "source": [
        "from google.colab import drive\n",
        "drive.mount('/content/drive')"
      ]
    },
    {
      "cell_type": "markdown",
      "metadata": {
        "id": "J1Hwbp8oBAIr"
      },
      "source": [
        "# Reading XML files"
      ]
    },
    {
      "cell_type": "code",
      "execution_count": null,
      "metadata": {
        "colab": {
          "base_uri": "https://localhost:8080/"
        },
        "id": "HWHw_kAp82hy",
        "outputId": "4b202bfc-f3a1-41a2-9115-d0ea0e737156"
      },
      "outputs": [
        {
          "name": "stdout",
          "output_type": "stream",
          "text": [
            "Number of folders:  394\n",
            "time: 34.3 ms (started: 2022-12-25 03:38:52 +00:00)\n"
          ]
        }
      ],
      "source": [
        "# path = 'E:/CT.gov/Full0605/search_result (9)'\n",
        "root_path = ('/content/drive/MyDrive/PKU/data/ct.gov/22-11-23/AllPublicXML')\n",
        "\n",
        "path_list= os.listdir(root_path)\n",
        "path_list.sort()\n",
        "# print(path_list)\n",
        "print('Number of folders: ',len(path_list)) #7976"
      ]
    },
    {
      "cell_type": "code",
      "execution_count": null,
      "metadata": {
        "colab": {
          "base_uri": "https://localhost:8080/"
        },
        "id": "E1k4E0zpBh6V",
        "outputId": "14d4fdc0-c5b5-4527-a898-2fa2e3a9720a"
      },
      "outputs": [
        {
          "name": "stdout",
          "output_type": "stream",
          "text": [
            "full number of studies : 304417\n",
            "time: 3min 21s (started: 2022-12-25 03:42:39 +00:00)\n"
          ]
        }
      ],
      "source": [
        "studies_number = 0\n",
        "older_paths = [ f'{root_path}/{i}' for i in path_list]\n",
        "for i in path_list:\n",
        "  folder_files = os.listdir(f'{root_path}/{i}')\n",
        "  #print(len(folder_files))\n",
        "  studies_number += len(folder_files)\n",
        "\n",
        "print(f'full number of studies : {studies_number}')"
      ]
    },
    {
      "cell_type": "code",
      "execution_count": null,
      "metadata": {
        "id": "63LGtcWXmixW"
      },
      "outputs": [],
      "source": [
        "# path = 'E:/CT.gov/Full0605/search_result (9)'\n",
        "root_path = ('/content/drive/MyDrive/PKU/data/ct.gov/22-12-25/AllPublicXML_7')\n",
        "\n",
        "path_list= os.listdir(root_path)\n",
        "path_list.sort()\n",
        "# print(path_list)\n",
        "print('Number of folders: ',len(path_list)) #7976"
      ]
    },
    {
      "cell_type": "code",
      "execution_count": null,
      "metadata": {
        "colab": {
          "base_uri": "https://localhost:8080/"
        },
        "id": "kkzeAQ5Znk8T",
        "outputId": "39106b6a-61f0-4b98-969f-ed3cfcef532c"
      },
      "outputs": [
        {
          "name": "stdout",
          "output_type": "stream",
          "text": [
            "full number of studies : 367586\n",
            "time: 16.1 s (started: 2022-12-26 15:23:41 +00:00)\n"
          ]
        }
      ],
      "source": [
        "estudies_number = 0\n",
        "folder_paths = [ f'{root_path}/{i}' for i in path_list]\n",
        "for i in path_list:\n",
        "  if i[-4:]!='.txt':\n",
        "    folder_files = os.listdir(f'{root_path}/{i}')\n",
        "    #print(len(folder_files))\n",
        "    studies_number += len(folder_files)\n",
        "\n",
        "print(f'full number of studies : {studies_number}')"
      ]
    },
    {
      "cell_type": "markdown",
      "metadata": {
        "id": "jh4yNCdCmcUa"
      },
      "source": [
        "## unzip in google colab"
      ]
    },
    {
      "cell_type": "code",
      "execution_count": null,
      "metadata": {
        "colab": {
          "base_uri": "https://localhost:8080/"
        },
        "id": "bR5Uu6M3l0Qp",
        "outputId": "4a77aef6-2b6f-4cb2-b40d-cfc242c815fa"
      },
      "outputs": [
        {
          "name": "stdout",
          "output_type": "stream",
          "text": [
            "time: 15min 54s (started: 2023-01-02 05:45:59 +00:00)\n"
          ]
        }
      ],
      "source": [
        "import shutil\n",
        "shutil.rmtree('/content/drive/MyDrive/PKU/data/ct.gov/22-12-25/colab_unzip')"
      ]
    },
    {
      "cell_type": "code",
      "execution_count": null,
      "metadata": {
        "colab": {
          "base_uri": "https://localhost:8080/"
        },
        "id": "iL5HUc0Dnlhv",
        "outputId": "af5b0f16-dcaa-4479-d3ec-c3050bc732c1"
      },
      "outputs": [
        {
          "data": {
            "text/plain": [
              "['Contents.txt', 'AllPublicXML.zip', 'excels']"
            ]
          },
          "execution_count": 27,
          "metadata": {},
          "output_type": "execute_result"
        },
        {
          "name": "stdout",
          "output_type": "stream",
          "text": [
            "time: 7.91 ms (started: 2023-01-02 09:13:58 +00:00)\n"
          ]
        }
      ],
      "source": [
        "os.listdir(('/content/drive/MyDrive/PKU/data/ct.gov/22-12-25'))"
      ]
    },
    {
      "cell_type": "code",
      "execution_count": null,
      "metadata": {
        "colab": {
          "base_uri": "https://localhost:8080/"
        },
        "id": "b3ZcKLaynpwu",
        "outputId": "8f2dae52-3e73-4e63-b306-0bb288c91bc6"
      },
      "outputs": [
        {
          "name": "stdout",
          "output_type": "stream",
          "text": [
            "time: 21min 37s (started: 2023-01-03 03:24:08 +00:00)\n"
          ]
        }
      ],
      "source": [
        "!unzip -u \"/content/drive/MyDrive/PKU/data/ct.gov/22-12-25/AllPublicXML.zip\" -d \"/content/drive/MyDrive/PKU/data/ct.gov/22-12-25/colab_unzip\" > /dev/null"
      ]
    },
    {
      "cell_type": "code",
      "execution_count": null,
      "metadata": {
        "colab": {
          "base_uri": "https://localhost:8080/"
        },
        "id": "M3x2oXEV_ug7",
        "outputId": "cdd39dc6-9ec3-4d5f-b31e-7c80d4ac36c8"
      },
      "outputs": [
        {
          "name": "stdout",
          "output_type": "stream",
          "text": [
            "Number of folders:  568\n",
            "time: 10.9 s (started: 2023-06-28 10:28:43 +00:00)\n"
          ]
        }
      ],
      "source": [
        "# path = 'E:/CT.gov/Full0605/search_result (9)'\n",
        "root_path = ('/content/drive/MyDrive/PKU/data/ct.gov/22-12-25/colab_unzip')\n",
        "\n",
        "path_list= os.listdir(root_path)\n",
        "path_list.sort()\n",
        "# print(path_list)\n",
        "print('Number of folders: ',len(path_list)) #7976"
      ]
    },
    {
      "cell_type": "code",
      "execution_count": null,
      "metadata": {
        "colab": {
          "base_uri": "https://localhost:8080/"
        },
        "id": "278b000-NO5V",
        "outputId": "9d93ab4b-a1a0-431b-fdb2-80c635483fc1"
      },
      "outputs": [
        {
          "name": "stdout",
          "output_type": "stream",
          "text": [
            "time: 457 µs (started: 2023-06-28 10:28:54 +00:00)\n"
          ]
        }
      ],
      "source": [
        "studies_number = 0\n",
        "folder_paths = [ f'{root_path}/{i}' for i in path_list]"
      ]
    },
    {
      "cell_type": "code",
      "execution_count": null,
      "metadata": {
        "colab": {
          "base_uri": "https://localhost:8080/"
        },
        "id": "sZKA12eC_xi0",
        "outputId": "60243335-3c54-4865-964a-b917882a7125"
      },
      "outputs": [
        {
          "name": "stdout",
          "output_type": "stream",
          "text": [
            "full number of studies : 437173\n",
            "time: 9min 52s (started: 2023-06-28 10:28:54 +00:00)\n"
          ]
        }
      ],
      "source": [
        "studies_number = 0\n",
        "folder_paths = [ f'{root_path}/{i}' for i in path_list]\n",
        "for i in path_list:\n",
        "  if i[-4:]!='.txt':\n",
        "    folder_files = os.listdir(f'{root_path}/{i}')\n",
        "    #print(len(folder_files))\n",
        "    studies_number += len(folder_files)\n",
        "\n",
        "print(f'full number of studies : {studies_number}')"
      ]
    },
    {
      "cell_type": "markdown",
      "metadata": {
        "id": "HUhyl0xwjWMG"
      },
      "source": [
        "## testing area"
      ]
    },
    {
      "cell_type": "code",
      "execution_count": null,
      "metadata": {
        "colab": {
          "base_uri": "https://localhost:8080/"
        },
        "id": "brbZLjP3k7Jt",
        "outputId": "0e55baee-e164-4df3-eff8-fc4614376c45"
      },
      "outputs": [
        {
          "name": "stdout",
          "output_type": "stream",
          "text": [
            "time: 281 µs (started: 2023-06-28 10:40:40 +00:00)\n"
          ]
        }
      ],
      "source": [
        "test_file = '/content/drive/MyDrive/PKU/data/ct.gov/22-12-25/colab_unzip/NCT0009xxxx/NCT00096265.xml'"
      ]
    },
    {
      "cell_type": "code",
      "execution_count": null,
      "metadata": {
        "colab": {
          "base_uri": "https://localhost:8080/"
        },
        "id": "6oBNbRb0lIDc",
        "outputId": "82047552-6b79-47ff-b05f-85c7d5f12092"
      },
      "outputs": [
        {
          "name": "stdout",
          "output_type": "stream",
          "text": [
            "time: 8.34 ms (started: 2023-06-28 10:56:02 +00:00)\n"
          ]
        }
      ],
      "source": [
        "tree = ET.parse(test_file)\n",
        "root = tree.getroot()\n",
        "\n",
        "condition_mesh_list = []\n",
        "for condition_browse in root.iter('location_countries'):\n",
        "    for mesh_term in condition_browse.iter('country'):\n",
        "        condition_mesh_list.append(mesh_term.text)"
      ]
    },
    {
      "cell_type": "code",
      "execution_count": null,
      "metadata": {
        "colab": {
          "base_uri": "https://localhost:8080/"
        },
        "id": "gea4KnXOl7b0",
        "outputId": "df2d1dad-eb00-481e-89d5-83df3c472f59"
      },
      "outputs": [
        {
          "data": {
            "text/plain": [
              "['Canada', 'United States']"
            ]
          },
          "execution_count": 55,
          "metadata": {},
          "output_type": "execute_result"
        },
        {
          "name": "stdout",
          "output_type": "stream",
          "text": [
            "time: 2.7 ms (started: 2023-06-28 10:56:03 +00:00)\n"
          ]
        }
      ],
      "source": [
        "condition_mesh_list"
      ]
    },
    {
      "cell_type": "markdown",
      "metadata": {
        "id": "e8vkHAePcbFf"
      },
      "source": [
        "## process function"
      ]
    },
    {
      "cell_type": "code",
      "execution_count": null,
      "metadata": {
        "colab": {
          "base_uri": "https://localhost:8080/"
        },
        "id": "yHbIIGKEG14d",
        "outputId": "cb87134a-dc8a-4caa-8592-ae82109a2b32"
      },
      "outputs": [
        {
          "name": "stdout",
          "output_type": "stream",
          "text": [
            "time: 3.67 ms (started: 2023-06-28 14:58:19 +00:00)\n"
          ]
        }
      ],
      "source": [
        "def find_node(root_node, tag):\n",
        "    if root_node.findall(tag):\n",
        "        return root_node.find(tag).text\n",
        "    else:\n",
        "        return \"NA\"\n",
        "\n",
        "def get_attribute(tag, attri_name):\n",
        "    if attri_name in tag.attrib:\n",
        "        return tag.attrib[attri_name]\n",
        "    else:\n",
        "        return \"NA\"\n",
        "\n",
        "def xml_process(folder):\n",
        "\n",
        "  folder_name = folder.split('/')[-1]\n",
        "\n",
        "  print(f'number of files in {folder_name}: ', len(os.listdir(folder)))\n",
        "\n",
        "  # defaultencoding = 'utf-8'\n",
        "  # if sys.getdefaultencoding() != defaultencoding:\n",
        "  #     reload(sys)\n",
        "  #     sys.setdefaultencoding(defaultencoding)\n",
        "\n",
        "  arr2 = []\n",
        "  arr_int2 = []\n",
        "  arr_con2 = []\n",
        "  arr_out2 = []\n",
        "  arr_adv2 = []\n",
        "  arr_cri2 = []\n",
        "  arr_res2 = []\n",
        "\n",
        "\n",
        "  for xml_file in os.listdir(folder):\n",
        "      arr = []\n",
        "      arr_int = []\n",
        "      arr_con = []\n",
        "      arr_out = []\n",
        "      arr_adv = []\n",
        "      arr_cri = []\n",
        "      arr_res = []\n",
        "\n",
        "      tree = ET.parse(folder + '/' + xml_file)\n",
        "      root = tree.getroot()\n",
        "\n",
        "\n",
        "\n",
        "      NCT = find_node(root.find(\"id_info\"), \"nct_id\")\n",
        "      study_type = root.find(\"study_type\").text\n",
        "\n",
        "      # allocation\n",
        "      allocation_element = root.find('.//allocation')\n",
        "      if allocation_element is not None:\n",
        "          allocation = allocation_element.text\n",
        "      else:\n",
        "          allocation = None\n",
        "\n",
        "      # trial_phase\n",
        "      trial_phase_element = root.find('.//phase')\n",
        "      if trial_phase_element is not None:\n",
        "          trial_phase = trial_phase_element.text\n",
        "      else:\n",
        "          trial_phase = None\n",
        "\n",
        "      # number of enrollments\n",
        "      enrollment_element = root.find('.//enrollment[@type=\"Actual\"]')\n",
        "      if enrollment_element is not None:\n",
        "          enrollment_num = enrollment_element.text\n",
        "      else:\n",
        "          enrollment_num = None\n",
        "\n",
        "      if root.findall('.//completion_date[@type]'):\n",
        "        completion_date = [ i.text[-4:] for i in root.findall('.//completion_date[@type]')][0]\n",
        "      else:\n",
        "        completion_date = None\n",
        "      #print(study_type)\n",
        "      arr.append(NCT)\n",
        "      arr_int.append(NCT)\n",
        "      arr_con.append(NCT)\n",
        "      arr_out.append(NCT)\n",
        "      arr_adv.append(NCT)\n",
        "      arr_cri.append(NCT)\n",
        "\n",
        "      arr_res.append(NCT)\n",
        "      arr_res.append(study_type)\n",
        "      arr_res.append(completion_date)\n",
        "      arr_res.append(trial_phase)\n",
        "      arr_res.append(enrollment_num)\n",
        "      arr_res.append(allocation)\n",
        "\n",
        "      record = arr_res\n",
        "\n",
        "      #conditions\n",
        "\n",
        "      condition_list = []\n",
        "      condition_arr = []\n",
        "      for condition in root.iter(\"condition\"):\n",
        "          condition_arr.append(condition.text)\n",
        "          arr_con2.append(arr_con + condition_arr)\n",
        "\n",
        "          condition_list.append(condition.text)\n",
        "      record = record + condition_list\n",
        "\n",
        "      arr_con.append([str(condition_arr)])\n",
        "\n",
        "      arr.append(find_node(root, \"number_of_arms\"))\n",
        "      arr.append(find_node(root, \"number_of_groups\"))\n",
        "      # countries\n",
        "      country_list = []\n",
        "      for country in root.iter('location_countries'):\n",
        "        for c in country.iter('country'):\n",
        "          country_list.append(c.text)\n",
        "      # condition_mesh\n",
        "      condition_mesh_list = []\n",
        "      for condition_browse in root.iter('condition_browse'):\n",
        "        for mesh_term in condition_browse.iter('mesh_term'):\n",
        "          condition_mesh_list.append(mesh_term.text)\n",
        "      # intervention_mesh\n",
        "      intervention_mesh_list = []\n",
        "      for inter_browse in root.iter('intervention_browse'):\n",
        "        for inter in inter_browse.iter('mesh_term'):\n",
        "          intervention_mesh_list.append(inter.text)\n",
        "\n",
        "      # agency_name (funder)\n",
        "      funder_name_list = []\n",
        "      for agency in root.iter('agency'):\n",
        "        funder_name_list.append(agency.text)\n",
        "      # agency_class (funder_type)\n",
        "      funder_type_list = []\n",
        "      for agency_class in root.iter('agency_class'):\n",
        "        funder_type_list.append(agency_class.text)\n",
        "\n",
        "      # arm_group\n",
        "      arm_dict = {}\n",
        "      for arm_group in root.iter(\"arm_group\"):\n",
        "          arm_group_arr = []\n",
        "          arm_group_arr.append(find_node(arm_group, \"arm_group_label\"))\n",
        "          arm_group_arr.append(find_node(arm_group, \"arm_group_type\"))\n",
        "          arm_group_arr.append(find_node(arm_group, \"description\"))\n",
        "          arr2.append(arr + arm_group_arr)\n",
        "\n",
        "          arm_dict[find_node(arm_group, \"arm_group_label\")] = find_node(arm_group, \"arm_group_type\")\n",
        "\n",
        "      # intervention\n",
        "      intervention_list = []\n",
        "      inter_type_list = []\n",
        "\n",
        "      comparator_list = []\n",
        "      comparator_type_list = []\n",
        "\n",
        "      all_inters = []\n",
        "      for intervention in root.iter(\"intervention\"):\n",
        "        # inter_group_arr = []\n",
        "        # inter_group_arr.append(find_node(intervention, \"intervention_name\"))\n",
        "        # arr_con2.append(inter_group_arr)\n",
        "\n",
        "        name = find_node(intervention, \"intervention_name\")\n",
        "\n",
        "        all_inters.append(name)\n",
        "\n",
        "        inter_type = find_node(intervention,\"intervention_type\")\n",
        "        label = find_node(intervention,\"arm_group_label\")\n",
        "\n",
        "        if arm_dict:\n",
        "          if 'experimental' in arm_dict[label].lower():\n",
        "            intervention_list.append(name)\n",
        "            inter_type_list.append(inter_type)\n",
        "\n",
        "          elif 'comparator' in arm_dict[label].lower():\n",
        "            comparator_list.append(name)\n",
        "            comparator_type_list.append(inter_type)\n",
        "        else:\n",
        "          pass\n",
        "\n",
        "\n",
        "      # eligibility\n",
        "\n",
        "      age_list = []\n",
        "\n",
        "      for eligibility in root.iter('eligibility'):\n",
        "        age_list.append(find_node(eligibility, 'minimum_age'))\n",
        "        age_list.append(find_node(eligibility, 'maximum_age'))\n",
        "\n",
        "      record = record + age_list + [str(intervention_list)] + [str(inter_type_list)] + [str(funder_name_list)] + [str(funder_type_list)]\n",
        "\n",
        "\n",
        "          # inter_group_arr.append(find_node(intervention, \"intervention_type\"))\n",
        "          # inter_group_arr.append(find_node(intervention, \"intervention_name\"))\n",
        "          # inter_group_arr.append(find_node(intervention, \"description\"))\n",
        "          # inter_group_arr.append(find_node(intervention, \"other_name\"))\n",
        "          # if intervention.findall(\"arm_group_label\"):\n",
        "          #     for arm_group_label in intervention.iter(\"arm_group_label\"):\n",
        "          #         group_label = []\n",
        "          #         group_label.append(arm_group_label.text)\n",
        "          #         arr_int2.append(arr_int + group_label + inter_group_arr)\n",
        "          # else:\n",
        "          #     arr_int2.append(arr_int + [\"NA\"] + inter_group_arr)\n",
        "\n",
        "      # adverse event - reported_events\n",
        "      for event in root.iter(\"reported_events\"):\n",
        "          event_arr = []\n",
        "          event_arr.append(find_node(event, \"time_frame\"))\n",
        "          event_arr.append(find_node(event, \"desc\"))\n",
        "          arr_adv2.append(arr_adv + [\"reported_events_info\"] + event_arr)\n",
        "\n",
        "          for groups in event.iter('group_list'):\n",
        "              for group in groups.iter('group'):\n",
        "                  event_arr = []\n",
        "                  event_arr.append(get_attribute(group, \"group_id\"))\n",
        "                  event_arr.append(find_node(group, \"title\"))\n",
        "                  event_arr.append(find_node(group, \"description\"))\n",
        "                  arr_adv2.append(arr_adv + [\"group_info\"] + event_arr)\n",
        "\n",
        "          for s_event in event.iter(\"serious_events\"):\n",
        "              event_arr = []\n",
        "              event_arr.append(find_node(s_event, \"frequency_threshold\"))\n",
        "              event_arr.append(find_node(s_event, \"default_vocab\"))\n",
        "              event_arr.append(find_node(s_event, \"default_assessment\"))\n",
        "              arr_adv2.append(arr_adv + [\"serious_events_info\"] + event_arr)\n",
        "\n",
        "              for category in s_event.iter('category'):\n",
        "                  event_arr = []\n",
        "                  event_arr.append(find_node(category, \"title\"))\n",
        "\n",
        "                  for e in category.iter('event'):\n",
        "                      sub_title = find_node(e, \"sub_title\")\n",
        "\n",
        "                      for count in e.iter('counts'):\n",
        "                          event_count = []\n",
        "                          event_count.append(get_attribute(count, \"group_id\"))\n",
        "                          event_count.append(get_attribute(count, \"subjects_at_risk\"))\n",
        "                          event_count.append(get_attribute(count, \"subjects_affected\"))\n",
        "                          arr_adv2.append(arr_adv + [\"serious_event_count\"] + event_arr + [sub_title] + event_count)\n",
        "\n",
        "          # adverse event - other_events\n",
        "          for o_event in event.iter(\"other_events\"):\n",
        "              event_arr = []\n",
        "              event_arr.append(find_node(o_event, \"frequency_threshold\"))\n",
        "              event_arr.append(find_node(o_event, \"default_vocab\"))\n",
        "              event_arr.append(find_node(o_event, \"default_assessment\"))\n",
        "              arr_adv2.append(arr_adv + [\"other_events_info\"] + event_arr)\n",
        "\n",
        "              for category in o_event.iter('category'):\n",
        "                  event_arr = []\n",
        "                  event_arr.append(find_node(category, \"title\"))\n",
        "\n",
        "                  for e in category.iter('event'):\n",
        "                      sub_title = find_node(e, \"sub_title\")\n",
        "\n",
        "                      for count in e.iter('counts'):\n",
        "                          event_count = []\n",
        "                          event_count.append(get_attribute(count, \"group_id\"))\n",
        "                          event_count.append(get_attribute(count, \"subjects_at_risk\"))\n",
        "                          event_count.append(get_attribute(count, \"subjects_affected\"))\n",
        "                          arr_adv2.append(arr_adv + [\"other_event_count\"] + event_arr + [sub_title] + event_count)\n",
        "\n",
        "      # eligibility\n",
        "      for eligibility in root.iter(\"eligibility\"):\n",
        "          for criteria in eligibility.iter('criteria'):\n",
        "              arr_cri.append(find_node(criteria, \"textblock\"))\n",
        "\n",
        "          arr_cri.append(find_node(eligibility, \"gender\"))\n",
        "          arr_cri.append(find_node(eligibility, \"minimum_age\"))\n",
        "          arr_cri.append(find_node(eligibility, \"maximum_age\"))\n",
        "          arr_cri.append(find_node(eligibility, \"healthy_volunteers\"))\n",
        "\n",
        "      arr_cri2.append(arr_cri)\n",
        "\n",
        "      # results outcome\n",
        "      outcome_count = 0\n",
        "      for outcome in root.iter(\"outcome\"):\n",
        "          outcome_count = outcome_count + 1\n",
        "          outcome_arr = []\n",
        "          outcome_arr.append(find_node(outcome, \"type\"))\n",
        "          outcome_arr.append(find_node(outcome, \"title\"))\n",
        "\n",
        "          group_dict = {}\n",
        "\n",
        "          for groups in outcome.iter('group_list'):\n",
        "              for group in groups.iter('group'):\n",
        "                  outcome_arr = []\n",
        "                  group_id = get_attribute(group, \"group_id\")\n",
        "                  group_title = find_node(group, \"title\")\n",
        "\n",
        "                  group_dict[group_id]=group_title\n",
        "\n",
        "          if len(list(outcome.iter('analysis')))!=0:\n",
        "            for analysis in outcome.iter('analysis'):\n",
        "\n",
        "                outcome_arr = []\n",
        "                outcome_arr.append(find_node(outcome, \"type\"))\n",
        "                outcome_arr.append(find_node(outcome, \"title\"))\n",
        "#######################\n",
        "                group_arr = []\n",
        "                for group_id in analysis.iter('group_id'):\n",
        "                  group_arr.append(group_dict[group_id.text])\n",
        "########################\n",
        "                outcome_arr.append(find_node(analysis, \"p_value\"))\n",
        "                outcome_arr.append(find_node(analysis, \"method\"))\n",
        "                outcome_arr.append(find_node(analysis, 'method_desc'))\n",
        "                outcome_arr.append(find_node(analysis, \"ci_percent\"))\n",
        "                outcome_arr.append(find_node(analysis, \"ci_n_sides\"))\n",
        "                outcome_arr.append(find_node(analysis, \"ci_lower_limit\"))\n",
        "                outcome_arr.append(find_node(analysis, \"ci_upper_limit\"))\n",
        "                outcome_arr.append(find_node(analysis, \"param_type\"))\n",
        "                outcome_arr.append(find_node(analysis, \"param_value\"))\n",
        "\n",
        "                arr_res2.append(arr_res + [str(country_list)] + [str(funder_name_list)] + [str(funder_type_list)] + [str(condition_mesh_list)] + [str(intervention_mesh_list)] + [str(condition_list)]+ [str(age_list)] + [str(all_inters)] + [str(inter_type_list)] + [str(intervention_list)] + [str(comparator_list)] + [str(comparator_type_list)] + [outcome_count, \"analysis_info\"] + [str(group_arr)] + outcome_arr)\n",
        "\n",
        "\n",
        "          else:\n",
        "            outcome_arr = []\n",
        "            outcome_arr.append(find_node(outcome, \"type\"))\n",
        "            outcome_arr.append(find_node(outcome, \"title\"))\n",
        "            outcome_arr.append(None)\n",
        "            outcome_arr.append(None)\n",
        "            outcome_arr.append(None)\n",
        "            outcome_arr.append(None)\n",
        "            outcome_arr.append(None)\n",
        "            outcome_arr.append(None)\n",
        "            outcome_arr.append(None)\n",
        "            outcome_arr.append(None)\n",
        "            outcome_arr.append(None)\n",
        "            group_arr = list(group_dict.values())\n",
        "            arr_res2.append(arr_res + [str(country_list)] + [str(funder_name_list)] + [str(funder_type_list)] + [str(condition_mesh_list)] + [str(intervention_mesh_list)] + [str(condition_list)] + [str(age_list)] + [str(all_inters)] + [str(inter_type_list)] + [str(intervention_list)] + [str(comparator_list)] + [str(comparator_type_list)] + [outcome_count, \"no_analysis\"] + [str(group_arr)] + outcome_arr )\n",
        "\n",
        "\n",
        "\n",
        "\n",
        "  col_name = [\"NCT_id\", \"num_arms\", \"num_groups\", \"arm_group_label\", \"arm_group_type\", \"arm_description\"]\n",
        "  col_name_int = [\"NCT_id\", \"arm_group_label\", \"intervention_type\", \"intervention_name\",\n",
        "                  \"intervention_description\", \"other_name\"]\n",
        "  col_name_con = [\"NCT_id\", \"conditions\"]\n",
        "  col_name_out = [\"NCT_id\", \"measure\", \"time_frame\", \"outcome_description\", \"outcome_type\"]\n",
        "  col_name_cri = [\"NCT_id\", \"criteria\", \"gender\", \"minimum_age\", \"maximum_age\", \"healthy_volunteers\"]\n",
        "  col_name_result = ['NCT_id','study_type','completion_year','trial_phase','enrollment_num','allocation','Countries','funder_name','funder_type','condition_mesh','intervention_mesh','condition','age','all_inters','intervention_type','intervention','comparator_type','comparator','outcome_id','info','groups','outcome_type','outcome_title','p_value','method','method_desc','ci_percent','ci_n_sides','ci_lower_limit','ci_upper_limit','param_type','param_value']\n",
        "\n",
        "\n",
        "  # arr2_xml = pd.DataFrame(columns=col_name, data=arr2)\n",
        "  # arr2_xml.to_csv('/content/drive/MyDrive/PKU/杜老师/ctgov/test_extract/arm_group.csv')\n",
        "\n",
        "  # arr_int2_xml = pd.DataFrame(columns=col_name_int, data=arr_int2)\n",
        "  # arr_int2_xml.to_csv('/content/drive/MyDrive/PKU/杜老师/ctgov/test_extract/nterventions.csv')\n",
        "\n",
        "  # arr_con2_xml = pd.DataFrame(columns=col_name_con, data=arr_con2)\n",
        "  # arr_con2_xml.to_csv('/content/drive/MyDrive/PKU/杜老师/ctgov/test_extract/conditions.csv')\n",
        "\n",
        "  # arr_out2_xml = pd.DataFrame(columns=col_name_out, data=arr_out2)\n",
        "  # arr_out2_xml.to_csv('/content/drive/MyDrive/PKU/杜老师/ctgov/test_extract/outcomes.csv')\n",
        "\n",
        "  # arr_event2_xml = pd.DataFrame(data=arr_adv2)\n",
        "  # arr_event2_xml.to_csv('/content/drive/MyDrive/PKU/杜老师/ctgov/test_extract/adverse_event.csv')\n",
        "\n",
        "  # arr_cri2_xml = pd.DataFrame(columns=col_name_cri, data=arr_cri2)\n",
        "  # arr_cri2_xml.to_csv('/content/drive/MyDrive/PKU/杜老师/ctgov/test_extract/criteria.csv')\n",
        "\n",
        "  try:\n",
        "    arr_res2_xml = pd.DataFrame(columns=col_name_result, data=arr_res2)\n",
        "  except Exception as e:\n",
        "    arr_res2_xml = pd.DataFrame(columns=col_name_result)\n",
        "    print(e,folder_name)\n",
        "  print('shape: ',arr_res2_xml.shape)\n",
        "  print('unique studies: ',arr_res2_xml['NCT_id'].nunique())\n",
        "  arr_res2_xml.to_csv(f'/content/drive/MyDrive/PKU/data/ct.gov/22-12-25/test_excels/analysis_{folder_name}.csv')\n",
        "\n",
        "  return arr_res2_xml"
      ]
    },
    {
      "cell_type": "markdown",
      "metadata": {
        "id": "3it_steR-fJL"
      },
      "source": [
        "# running"
      ]
    },
    {
      "cell_type": "code",
      "execution_count": null,
      "metadata": {
        "colab": {
          "base_uri": "https://localhost:8080/"
        },
        "id": "CspIp7BvLMi_",
        "outputId": "26a4a59a-7548-4bca-e825-c657e0de3212"
      },
      "outputs": [
        {
          "name": "stdout",
          "output_type": "stream",
          "text": [
            "/content/drive/MyDrive/PKU/杜老师/data/ct.gov/22-12-25/colab_unzip/NCT0489xxxx\n",
            "time: 1.12 ms (started: 2023-06-28 14:24:26 +00:00)\n"
          ]
        }
      ],
      "source": [
        "run_list = [i for i in folder_paths if i[-4:]!='.txt']\n",
        "print(run_list[489])"
      ]
    },
    {
      "cell_type": "code",
      "execution_count": null,
      "metadata": {
        "colab": {
          "base_uri": "https://localhost:8080/"
        },
        "id": "yFcO-SXnYp0n",
        "outputId": "66503304-af74-4030-a99c-eb1798eda32d"
      },
      "outputs": [
        {
          "data": {
            "text/plain": [
              "4"
            ]
          },
          "execution_count": 69,
          "metadata": {},
          "output_type": "execute_result"
        },
        {
          "name": "stdout",
          "output_type": "stream",
          "text": [
            "time: 2.93 ms (started: 2023-06-28 11:02:24 +00:00)\n"
          ]
        }
      ],
      "source": [
        "import multiprocessing\n",
        "\n",
        "multiprocessing.cpu_count()"
      ]
    },
    {
      "cell_type": "code",
      "execution_count": null,
      "metadata": {
        "colab": {
          "base_uri": "https://localhost:8080/"
        },
        "id": "qw_SFPS1aJdF",
        "outputId": "5a2d9d42-c7a4-4adc-b386-d3bbc624affe"
      },
      "outputs": [
        {
          "name": "stdout",
          "output_type": "stream",
          "text": [
            "number of files in NCT0001xxxx:  675\n",
            "shape:  (91, 32)\n",
            "unique studies:  22\n",
            "time: 1.06 s (started: 2023-06-28 14:57:15 +00:00)\n"
          ]
        }
      ],
      "source": [
        "test_df = xml_process(run_list[1])"
      ]
    },
    {
      "cell_type": "code",
      "execution_count": null,
      "metadata": {
        "colab": {
          "base_uri": "https://localhost:8080/",
          "height": 224
        },
        "id": "2wDizT3db120",
        "outputId": "3d71f78b-30b2-4f93-b61d-e96bff95333e"
      },
      "outputs": [
        {
          "data": {
            "text/html": [
              "\n",
              "  <div id=\"df-be01c19f-e2a7-4523-a64a-a7a8d5703a6d\">\n",
              "    <div class=\"colab-df-container\">\n",
              "      <div>\n",
              "<style scoped>\n",
              "    .dataframe tbody tr th:only-of-type {\n",
              "        vertical-align: middle;\n",
              "    }\n",
              "\n",
              "    .dataframe tbody tr th {\n",
              "        vertical-align: top;\n",
              "    }\n",
              "\n",
              "    .dataframe thead th {\n",
              "        text-align: right;\n",
              "    }\n",
              "</style>\n",
              "<table border=\"1\" class=\"dataframe\">\n",
              "  <thead>\n",
              "    <tr style=\"text-align: right;\">\n",
              "      <th></th>\n",
              "      <th>NCT_id</th>\n",
              "      <th>condition_mesh</th>\n",
              "      <th>condition</th>\n",
              "      <th>intervention_mesh</th>\n",
              "      <th>Countries</th>\n",
              "    </tr>\n",
              "  </thead>\n",
              "  <tbody>\n",
              "    <tr>\n",
              "      <th>65</th>\n",
              "      <td>NCT00019604</td>\n",
              "      <td>['Liver Neoplasms']</td>\n",
              "      <td>['Liver Cancer', 'Metastatic Cancer', 'Unspeci...</td>\n",
              "      <td>['Fluorodeoxyglucose F18']</td>\n",
              "      <td>['United States']</td>\n",
              "    </tr>\n",
              "    <tr>\n",
              "      <th>36</th>\n",
              "      <td>NCT00014222</td>\n",
              "      <td>['Breast Neoplasms']</td>\n",
              "      <td>['Breast Cancer']</td>\n",
              "      <td>['Paclitaxel', 'Cyclophosphamide', 'Doxorubici...</td>\n",
              "      <td>['Canada', 'United States']</td>\n",
              "    </tr>\n",
              "    <tr>\n",
              "      <th>55</th>\n",
              "      <td>NCT00014911</td>\n",
              "      <td>['Diabetes Mellitus, Type 1']</td>\n",
              "      <td>['Diabetes Mellitus, Insulin-Dependent']</td>\n",
              "      <td>['Sirolimus', 'Pentamidine', 'Trimethoprim', '...</td>\n",
              "      <td>['Canada', 'Germany', 'Italy', 'Switzerland', ...</td>\n",
              "    </tr>\n",
              "    <tr>\n",
              "      <th>38</th>\n",
              "      <td>NCT00019682</td>\n",
              "      <td>['Melanoma', 'Skin Neoplasms']</td>\n",
              "      <td>['Recurrent Melanoma', 'Stage IIIA Skin Melano...</td>\n",
              "      <td>['Aldesleukin', 'Monatide (IMS 3015)']</td>\n",
              "      <td>['United States']</td>\n",
              "    </tr>\n",
              "    <tr>\n",
              "      <th>29</th>\n",
              "      <td>NCT00012298</td>\n",
              "      <td>['Lymphoma', 'Lymphoma, Follicular', 'Lymphoma...</td>\n",
              "      <td>['Extranodal Marginal Zone B-cell Lymphoma of ...</td>\n",
              "      <td>['Rituximab', 'Oprelvekin', 'Antibodies, Monoc...</td>\n",
              "      <td>['United States']</td>\n",
              "    </tr>\n",
              "  </tbody>\n",
              "</table>\n",
              "</div>\n",
              "      <button class=\"colab-df-convert\" onclick=\"convertToInteractive('df-be01c19f-e2a7-4523-a64a-a7a8d5703a6d')\"\n",
              "              title=\"Convert this dataframe to an interactive table.\"\n",
              "              style=\"display:none;\">\n",
              "        \n",
              "  <svg xmlns=\"http://www.w3.org/2000/svg\" height=\"24px\"viewBox=\"0 0 24 24\"\n",
              "       width=\"24px\">\n",
              "    <path d=\"M0 0h24v24H0V0z\" fill=\"none\"/>\n",
              "    <path d=\"M18.56 5.44l.94 2.06.94-2.06 2.06-.94-2.06-.94-.94-2.06-.94 2.06-2.06.94zm-11 1L8.5 8.5l.94-2.06 2.06-.94-2.06-.94L8.5 2.5l-.94 2.06-2.06.94zm10 10l.94 2.06.94-2.06 2.06-.94-2.06-.94-.94-2.06-.94 2.06-2.06.94z\"/><path d=\"M17.41 7.96l-1.37-1.37c-.4-.4-.92-.59-1.43-.59-.52 0-1.04.2-1.43.59L10.3 9.45l-7.72 7.72c-.78.78-.78 2.05 0 2.83L4 21.41c.39.39.9.59 1.41.59.51 0 1.02-.2 1.41-.59l7.78-7.78 2.81-2.81c.8-.78.8-2.07 0-2.86zM5.41 20L4 18.59l7.72-7.72 1.47 1.35L5.41 20z\"/>\n",
              "  </svg>\n",
              "      </button>\n",
              "      \n",
              "  <style>\n",
              "    .colab-df-container {\n",
              "      display:flex;\n",
              "      flex-wrap:wrap;\n",
              "      gap: 12px;\n",
              "    }\n",
              "\n",
              "    .colab-df-convert {\n",
              "      background-color: #E8F0FE;\n",
              "      border: none;\n",
              "      border-radius: 50%;\n",
              "      cursor: pointer;\n",
              "      display: none;\n",
              "      fill: #1967D2;\n",
              "      height: 32px;\n",
              "      padding: 0 0 0 0;\n",
              "      width: 32px;\n",
              "    }\n",
              "\n",
              "    .colab-df-convert:hover {\n",
              "      background-color: #E2EBFA;\n",
              "      box-shadow: 0px 1px 2px rgba(60, 64, 67, 0.3), 0px 1px 3px 1px rgba(60, 64, 67, 0.15);\n",
              "      fill: #174EA6;\n",
              "    }\n",
              "\n",
              "    [theme=dark] .colab-df-convert {\n",
              "      background-color: #3B4455;\n",
              "      fill: #D2E3FC;\n",
              "    }\n",
              "\n",
              "    [theme=dark] .colab-df-convert:hover {\n",
              "      background-color: #434B5C;\n",
              "      box-shadow: 0px 1px 3px 1px rgba(0, 0, 0, 0.15);\n",
              "      filter: drop-shadow(0px 1px 2px rgba(0, 0, 0, 0.3));\n",
              "      fill: #FFFFFF;\n",
              "    }\n",
              "  </style>\n",
              "\n",
              "      <script>\n",
              "        const buttonEl =\n",
              "          document.querySelector('#df-be01c19f-e2a7-4523-a64a-a7a8d5703a6d button.colab-df-convert');\n",
              "        buttonEl.style.display =\n",
              "          google.colab.kernel.accessAllowed ? 'block' : 'none';\n",
              "\n",
              "        async function convertToInteractive(key) {\n",
              "          const element = document.querySelector('#df-be01c19f-e2a7-4523-a64a-a7a8d5703a6d');\n",
              "          const dataTable =\n",
              "            await google.colab.kernel.invokeFunction('convertToInteractive',\n",
              "                                                     [key], {});\n",
              "          if (!dataTable) return;\n",
              "\n",
              "          const docLinkHtml = 'Like what you see? Visit the ' +\n",
              "            '<a target=\"_blank\" href=https://colab.research.google.com/notebooks/data_table.ipynb>data table notebook</a>'\n",
              "            + ' to learn more about interactive tables.';\n",
              "          element.innerHTML = '';\n",
              "          dataTable['output_type'] = 'display_data';\n",
              "          await google.colab.output.renderOutput(dataTable, element);\n",
              "          const docLink = document.createElement('div');\n",
              "          docLink.innerHTML = docLinkHtml;\n",
              "          element.appendChild(docLink);\n",
              "        }\n",
              "      </script>\n",
              "    </div>\n",
              "  </div>\n",
              "  "
            ],
            "text/plain": [
              "         NCT_id                                     condition_mesh  \\\n",
              "65  NCT00019604                                ['Liver Neoplasms']   \n",
              "36  NCT00014222                               ['Breast Neoplasms']   \n",
              "55  NCT00014911                      ['Diabetes Mellitus, Type 1']   \n",
              "38  NCT00019682                     ['Melanoma', 'Skin Neoplasms']   \n",
              "29  NCT00012298  ['Lymphoma', 'Lymphoma, Follicular', 'Lymphoma...   \n",
              "\n",
              "                                            condition  \\\n",
              "65  ['Liver Cancer', 'Metastatic Cancer', 'Unspeci...   \n",
              "36                                  ['Breast Cancer']   \n",
              "55           ['Diabetes Mellitus, Insulin-Dependent']   \n",
              "38  ['Recurrent Melanoma', 'Stage IIIA Skin Melano...   \n",
              "29  ['Extranodal Marginal Zone B-cell Lymphoma of ...   \n",
              "\n",
              "                                    intervention_mesh  \\\n",
              "65                         ['Fluorodeoxyglucose F18']   \n",
              "36  ['Paclitaxel', 'Cyclophosphamide', 'Doxorubici...   \n",
              "55  ['Sirolimus', 'Pentamidine', 'Trimethoprim', '...   \n",
              "38             ['Aldesleukin', 'Monatide (IMS 3015)']   \n",
              "29  ['Rituximab', 'Oprelvekin', 'Antibodies, Monoc...   \n",
              "\n",
              "                                            Countries  \n",
              "65                                  ['United States']  \n",
              "36                        ['Canada', 'United States']  \n",
              "55  ['Canada', 'Germany', 'Italy', 'Switzerland', ...  \n",
              "38                                  ['United States']  \n",
              "29                                  ['United States']  "
            ]
          },
          "execution_count": 97,
          "metadata": {},
          "output_type": "execute_result"
        },
        {
          "name": "stdout",
          "output_type": "stream",
          "text": [
            "time: 6.99 ms (started: 2023-06-28 14:57:43 +00:00)\n"
          ]
        }
      ],
      "source": [
        "pd.set_option('display.max_columns', None)\n",
        "test_df.sample(5)[['NCT_id','condition_mesh','condition','intervention_mesh','Countries']]"
      ]
    },
    {
      "cell_type": "code",
      "execution_count": null,
      "metadata": {
        "colab": {
          "base_uri": "https://localhost:8080/"
        },
        "id": "X32kC8apxf-b",
        "outputId": "0276abc7-5467-4925-9062-baae0634b0e6"
      },
      "outputs": [
        {
          "name": "stdout",
          "output_type": "stream",
          "text": [
            "567\n",
            "time: 377 µs (started: 2023-06-28 14:57:46 +00:00)\n"
          ]
        }
      ],
      "source": [
        "print(len(run_list))"
      ]
    },
    {
      "cell_type": "code",
      "execution_count": null,
      "metadata": {
        "id": "OQ7cNW16XhaN"
      },
      "outputs": [],
      "source": [
        "from tqdm import tqdm\n",
        "from concurrent.futures import ThreadPoolExecutor, as_completed\n",
        "with ThreadPoolExecutor(max_workers=4) as executor:\n",
        "    for i in tqdm(run_list):\n",
        "        executor.submit(xml_process,i)"
      ]
    },
    {
      "cell_type": "code",
      "execution_count": null,
      "metadata": {
        "colab": {
          "base_uri": "https://localhost:8080/"
        },
        "id": "7o_XPMjE-hOF",
        "outputId": "e1ab383b-ee3e-4e2e-b70f-ab7b35381bba"
      },
      "outputs": [
        {
          "name": "stdout",
          "output_type": "stream",
          "text": [
            "time: 1min 55s (started: 2023-06-29 01:30:07 +00:00)\n"
          ]
        }
      ],
      "source": [
        "df_list = []\n",
        "\n",
        "for i in os.listdir(f'/content/drive/MyDrive/PKU/data/ct.gov/22-12-25/test_excels'):\n",
        "  df = pd.read_csv(f'/content/drive/MyDrive/PKU/data/ct.gov/22-12-25/test_excels/{i}')\n",
        "  df_list.append(df)"
      ]
    },
    {
      "cell_type": "code",
      "execution_count": null,
      "metadata": {
        "colab": {
          "base_uri": "https://localhost:8080/"
        },
        "id": "FYr4BfSUAxKF",
        "outputId": "28357e36-60ed-449e-8d22-55c765f2adba"
      },
      "outputs": [
        {
          "name": "stdout",
          "output_type": "stream",
          "text": [
            "time: 3.23 s (started: 2023-06-29 01:32:03 +00:00)\n"
          ]
        }
      ],
      "source": [
        "all_df = pd.concat(df_list).drop(columns='Unnamed: 0')\n",
        "\n",
        "all_df.to_pickle(f'/content/drive/MyDrive/PKU/data/ct.gov/22-12-25/all_df_230628.pickle')\n",
        "#all_df.to_json(f'/content/drive/MyDrive/PKU/杜老师/data/ct.gov/22-12-25/all_df_backup_0505.json')"
      ]
    },
    {
      "cell_type": "code",
      "execution_count": null,
      "metadata": {
        "colab": {
          "base_uri": "https://localhost:8080/"
        },
        "id": "ru5mvHnBBUnu",
        "outputId": "0df397f9-df7d-4102-8155-a48118f2374b"
      },
      "outputs": [
        {
          "name": "stdout",
          "output_type": "stream",
          "text": [
            "(592323, 32)\n"
          ]
        },
        {
          "data": {
            "text/plain": [
              "56481"
            ]
          },
          "execution_count": 109,
          "metadata": {},
          "output_type": "execute_result"
        },
        {
          "name": "stdout",
          "output_type": "stream",
          "text": [
            "time: 40.4 ms (started: 2023-06-29 01:32:06 +00:00)\n"
          ]
        }
      ],
      "source": [
        "print(all_df.shape)\n",
        "all_df['NCT_id'].nunique()"
      ]
    }
  ],
  "metadata": {
    "colab": {
      "machine_shape": "hm",
      "toc_visible": true,
      "provenance": []
    },
    "gpuClass": "standard",
    "kernelspec": {
      "display_name": "Python 3",
      "name": "python3"
    },
    "language_info": {
      "name": "python"
    }
  },
  "nbformat": 4,
  "nbformat_minor": 0
}